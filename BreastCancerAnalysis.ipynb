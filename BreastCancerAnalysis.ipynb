{
  "nbformat": 4,
  "nbformat_minor": 0,
  "metadata": {
    "kernelspec": {
      "display_name": "Python 3",
      "language": "python",
      "name": "python3"
    },
    "language_info": {
      "codemirror_mode": {
        "name": "ipython",
        "version": 3
      },
      "file_extension": ".py",
      "mimetype": "text/x-python",
      "name": "python",
      "nbconvert_exporter": "python",
      "pygments_lexer": "ipython3",
      "version": "3.6.8"
    },
    "colab": {
      "provenance": []
    }
  },
  "cells": [
    {
      "cell_type": "markdown",
      "metadata": {
        "id": "tqf3kKm0NIrW"
      },
      "source": [
        "Found this Breast Cancer dataset and wanted to play around with modeling. Code Utilizes Scikit learn packaged, KNN,."
      ]
    },
    {
      "cell_type": "code",
      "metadata": {
        "id": "11X82pIJNIre",
        "colab": {
          "base_uri": "https://localhost:8080/",
          "height": 268
        },
        "outputId": "987c942a-cbd2-484d-e3e7-4b68cf8344d8"
      },
      "source": [
        "import pandas as pd\n",
        "\n",
        "data_dir = \"http://dlsun.github.io/pods/data/\"\n",
        "df_breast = pd.read_csv(data_dir + \"breast-cancer.csv\")\n",
        "df_breast.head()"
      ],
      "execution_count": null,
      "outputs": [
        {
          "output_type": "execute_result",
          "data": {
            "text/plain": [
              "        ID  Clump Thickness  Uniformity of Cell Size  \\\n",
              "0  1000025                5                        1   \n",
              "1  1002945                5                        4   \n",
              "2  1015425                3                        1   \n",
              "3  1016277                6                        8   \n",
              "4  1017023                4                        1   \n",
              "\n",
              "   Uniformity of Cell Shape  Marginal Adhesion  Single Epithelial Cell Size  \\\n",
              "0                         1                  1                            2   \n",
              "1                         4                  5                            7   \n",
              "2                         1                  1                            2   \n",
              "3                         8                  1                            3   \n",
              "4                         1                  3                            2   \n",
              "\n",
              "   Bare Nuclei  Bland Chromatin  Normal Nucleoli  Mitoses  Class  \n",
              "0            1                3                1        1      0  \n",
              "1           10                3                2        1      0  \n",
              "2            2                3                1        1      0  \n",
              "3            4                3                7        1      0  \n",
              "4            1                3                1        1      0  "
            ],
            "text/html": [
              "\n",
              "  <div id=\"df-63d96ff1-7439-40bc-8b22-8f9a51c97763\">\n",
              "    <div class=\"colab-df-container\">\n",
              "      <div>\n",
              "<style scoped>\n",
              "    .dataframe tbody tr th:only-of-type {\n",
              "        vertical-align: middle;\n",
              "    }\n",
              "\n",
              "    .dataframe tbody tr th {\n",
              "        vertical-align: top;\n",
              "    }\n",
              "\n",
              "    .dataframe thead th {\n",
              "        text-align: right;\n",
              "    }\n",
              "</style>\n",
              "<table border=\"1\" class=\"dataframe\">\n",
              "  <thead>\n",
              "    <tr style=\"text-align: right;\">\n",
              "      <th></th>\n",
              "      <th>ID</th>\n",
              "      <th>Clump Thickness</th>\n",
              "      <th>Uniformity of Cell Size</th>\n",
              "      <th>Uniformity of Cell Shape</th>\n",
              "      <th>Marginal Adhesion</th>\n",
              "      <th>Single Epithelial Cell Size</th>\n",
              "      <th>Bare Nuclei</th>\n",
              "      <th>Bland Chromatin</th>\n",
              "      <th>Normal Nucleoli</th>\n",
              "      <th>Mitoses</th>\n",
              "      <th>Class</th>\n",
              "    </tr>\n",
              "  </thead>\n",
              "  <tbody>\n",
              "    <tr>\n",
              "      <th>0</th>\n",
              "      <td>1000025</td>\n",
              "      <td>5</td>\n",
              "      <td>1</td>\n",
              "      <td>1</td>\n",
              "      <td>1</td>\n",
              "      <td>2</td>\n",
              "      <td>1</td>\n",
              "      <td>3</td>\n",
              "      <td>1</td>\n",
              "      <td>1</td>\n",
              "      <td>0</td>\n",
              "    </tr>\n",
              "    <tr>\n",
              "      <th>1</th>\n",
              "      <td>1002945</td>\n",
              "      <td>5</td>\n",
              "      <td>4</td>\n",
              "      <td>4</td>\n",
              "      <td>5</td>\n",
              "      <td>7</td>\n",
              "      <td>10</td>\n",
              "      <td>3</td>\n",
              "      <td>2</td>\n",
              "      <td>1</td>\n",
              "      <td>0</td>\n",
              "    </tr>\n",
              "    <tr>\n",
              "      <th>2</th>\n",
              "      <td>1015425</td>\n",
              "      <td>3</td>\n",
              "      <td>1</td>\n",
              "      <td>1</td>\n",
              "      <td>1</td>\n",
              "      <td>2</td>\n",
              "      <td>2</td>\n",
              "      <td>3</td>\n",
              "      <td>1</td>\n",
              "      <td>1</td>\n",
              "      <td>0</td>\n",
              "    </tr>\n",
              "    <tr>\n",
              "      <th>3</th>\n",
              "      <td>1016277</td>\n",
              "      <td>6</td>\n",
              "      <td>8</td>\n",
              "      <td>8</td>\n",
              "      <td>1</td>\n",
              "      <td>3</td>\n",
              "      <td>4</td>\n",
              "      <td>3</td>\n",
              "      <td>7</td>\n",
              "      <td>1</td>\n",
              "      <td>0</td>\n",
              "    </tr>\n",
              "    <tr>\n",
              "      <th>4</th>\n",
              "      <td>1017023</td>\n",
              "      <td>4</td>\n",
              "      <td>1</td>\n",
              "      <td>1</td>\n",
              "      <td>3</td>\n",
              "      <td>2</td>\n",
              "      <td>1</td>\n",
              "      <td>3</td>\n",
              "      <td>1</td>\n",
              "      <td>1</td>\n",
              "      <td>0</td>\n",
              "    </tr>\n",
              "  </tbody>\n",
              "</table>\n",
              "</div>\n",
              "      <button class=\"colab-df-convert\" onclick=\"convertToInteractive('df-63d96ff1-7439-40bc-8b22-8f9a51c97763')\"\n",
              "              title=\"Convert this dataframe to an interactive table.\"\n",
              "              style=\"display:none;\">\n",
              "        \n",
              "  <svg xmlns=\"http://www.w3.org/2000/svg\" height=\"24px\"viewBox=\"0 0 24 24\"\n",
              "       width=\"24px\">\n",
              "    <path d=\"M0 0h24v24H0V0z\" fill=\"none\"/>\n",
              "    <path d=\"M18.56 5.44l.94 2.06.94-2.06 2.06-.94-2.06-.94-.94-2.06-.94 2.06-2.06.94zm-11 1L8.5 8.5l.94-2.06 2.06-.94-2.06-.94L8.5 2.5l-.94 2.06-2.06.94zm10 10l.94 2.06.94-2.06 2.06-.94-2.06-.94-.94-2.06-.94 2.06-2.06.94z\"/><path d=\"M17.41 7.96l-1.37-1.37c-.4-.4-.92-.59-1.43-.59-.52 0-1.04.2-1.43.59L10.3 9.45l-7.72 7.72c-.78.78-.78 2.05 0 2.83L4 21.41c.39.39.9.59 1.41.59.51 0 1.02-.2 1.41-.59l7.78-7.78 2.81-2.81c.8-.78.8-2.07 0-2.86zM5.41 20L4 18.59l7.72-7.72 1.47 1.35L5.41 20z\"/>\n",
              "  </svg>\n",
              "      </button>\n",
              "      \n",
              "  <style>\n",
              "    .colab-df-container {\n",
              "      display:flex;\n",
              "      flex-wrap:wrap;\n",
              "      gap: 12px;\n",
              "    }\n",
              "\n",
              "    .colab-df-convert {\n",
              "      background-color: #E8F0FE;\n",
              "      border: none;\n",
              "      border-radius: 50%;\n",
              "      cursor: pointer;\n",
              "      display: none;\n",
              "      fill: #1967D2;\n",
              "      height: 32px;\n",
              "      padding: 0 0 0 0;\n",
              "      width: 32px;\n",
              "    }\n",
              "\n",
              "    .colab-df-convert:hover {\n",
              "      background-color: #E2EBFA;\n",
              "      box-shadow: 0px 1px 2px rgba(60, 64, 67, 0.3), 0px 1px 3px 1px rgba(60, 64, 67, 0.15);\n",
              "      fill: #174EA6;\n",
              "    }\n",
              "\n",
              "    [theme=dark] .colab-df-convert {\n",
              "      background-color: #3B4455;\n",
              "      fill: #D2E3FC;\n",
              "    }\n",
              "\n",
              "    [theme=dark] .colab-df-convert:hover {\n",
              "      background-color: #434B5C;\n",
              "      box-shadow: 0px 1px 3px 1px rgba(0, 0, 0, 0.15);\n",
              "      filter: drop-shadow(0px 1px 2px rgba(0, 0, 0, 0.3));\n",
              "      fill: #FFFFFF;\n",
              "    }\n",
              "  </style>\n",
              "\n",
              "      <script>\n",
              "        const buttonEl =\n",
              "          document.querySelector('#df-63d96ff1-7439-40bc-8b22-8f9a51c97763 button.colab-df-convert');\n",
              "        buttonEl.style.display =\n",
              "          google.colab.kernel.accessAllowed ? 'block' : 'none';\n",
              "\n",
              "        async function convertToInteractive(key) {\n",
              "          const element = document.querySelector('#df-63d96ff1-7439-40bc-8b22-8f9a51c97763');\n",
              "          const dataTable =\n",
              "            await google.colab.kernel.invokeFunction('convertToInteractive',\n",
              "                                                     [key], {});\n",
              "          if (!dataTable) return;\n",
              "\n",
              "          const docLinkHtml = 'Like what you see? Visit the ' +\n",
              "            '<a target=\"_blank\" href=https://colab.research.google.com/notebooks/data_table.ipynb>data table notebook</a>'\n",
              "            + ' to learn more about interactive tables.';\n",
              "          element.innerHTML = '';\n",
              "          dataTable['output_type'] = 'display_data';\n",
              "          await google.colab.output.renderOutput(dataTable, element);\n",
              "          const docLink = document.createElement('div');\n",
              "          docLink.innerHTML = docLinkHtml;\n",
              "          element.appendChild(docLink);\n",
              "        }\n",
              "      </script>\n",
              "    </div>\n",
              "  </div>\n",
              "  "
            ]
          },
          "metadata": {},
          "execution_count": 1
        }
      ]
    },
    {
      "cell_type": "code",
      "metadata": {
        "id": "HaLknNNwNIr0",
        "colab": {
          "base_uri": "https://localhost:8080/"
        },
        "outputId": "6f9ef40b-bdd5-4be1-fccb-ea49027a8966"
      },
      "source": [
        "from sklearn.neighbors import KNeighborsClassifier\n",
        "\n",
        "X_train = df_breast[[\"Clump Thickness\", \"Uniformity of Cell Size\", \"Uniformity of Cell Shape\",\n",
        "                     \"Marginal Adhesion\", \"Single Epithelial Cell Size\", \"Bare Nuclei\",\n",
        "                     \"Bland Chromatin\", \"Normal Nucleoli\", \"Mitoses\"]]\n",
        "y_train = df_breast[\"Class\"]\n",
        "\n",
        "model = KNeighborsClassifier(n_neighbors=10)\n",
        "model.fit(X=X_train, y=y_train)"
      ],
      "execution_count": null,
      "outputs": [
        {
          "output_type": "execute_result",
          "data": {
            "text/plain": [
              "KNeighborsClassifier(n_neighbors=10)"
            ]
          },
          "metadata": {},
          "execution_count": 2
        }
      ]
    },
    {
      "cell_type": "markdown",
      "metadata": {
        "id": "zodIJIw3NIsC"
      },
      "source": [
        " Calculating the model's predictions on the training data, and calculate how often the prediction matches the ground truth."
      ]
    },
    {
      "cell_type": "code",
      "metadata": {
        "id": "I9Cu-c2PNIsF",
        "colab": {
          "base_uri": "https://localhost:8080/"
        },
        "outputId": "cc11a85e-21ba-4d77-b7d0-c660ec70be3c"
      },
      "source": [
        "y_train_ = model.predict(X_train)\n",
        "accuracy = (y_train_ == y_train).mean()\n",
        "accuracy"
      ],
      "execution_count": null,
      "outputs": [
        {
          "output_type": "execute_result",
          "data": {
            "text/plain": [
              "0.9736456808199122"
            ]
          },
          "metadata": {},
          "execution_count": 3
        }
      ]
    },
    {
      "cell_type": "code",
      "metadata": {
        "id": "ML0tnAGQNIsR",
        "colab": {
          "base_uri": "https://localhost:8080/"
        },
        "outputId": "f197bb0a-514c-489b-a050-e8b469e74bc8"
      },
      "source": [
        "from sklearn.metrics import accuracy_score\n",
        "accuracy_score(y_train, y_train_)"
      ],
      "execution_count": null,
      "outputs": [
        {
          "output_type": "execute_result",
          "data": {
            "text/plain": [
              "0.9736456808199122"
            ]
          },
          "metadata": {},
          "execution_count": 4
        }
      ]
    },
    {
      "cell_type": "markdown",
      "metadata": {
        "id": "UPZN71CZNIsa"
      },
      "source": [
        "The accuracy is 97.4%, which sounds impressive. But it would be less impressive if 97.4% of all samples in the data were benign, since the same accuracy could be achieved by a useless model that predicts that every sample is benign.\n",
        "\n",
        "The problem with a model that predicts that every sample is benign is that, although the model might be accurate overall, it is very inaccurate for malignant samples. We want a model that is not just accurate overall, but accurate for both benign and malignant samples. There is some ambiguity in how to define \"accuracy for malignant samples\". As a result, there are two metrics: _precision_ and _recall_."
      ]
    },
    {
      "cell_type": "markdown",
      "metadata": {
        "id": "94xNYpftNIsg"
      },
      "source": [
        "Precision and Recall for KNN Model"
      ]
    },
    {
      "cell_type": "code",
      "metadata": {
        "id": "5VzNqrUJNIsj",
        "colab": {
          "base_uri": "https://localhost:8080/"
        },
        "outputId": "08224163-50aa-4a20-ccf1-32bc9a092277"
      },
      "source": [
        "true_positives = ((y_train_ == 1) & (y_train == 1)).sum()\n",
        "\n",
        "precision = true_positives / (y_train_ == 1).sum()\n",
        "recall = true_positives / (y_train == 1).sum()\n",
        "\n",
        "precision, recall"
      ],
      "execution_count": null,
      "outputs": [
        {
          "output_type": "execute_result",
          "data": {
            "text/plain": [
              "(0.9662447257383966, 0.9581589958158996)"
            ]
          },
          "metadata": {},
          "execution_count": 5
        }
      ]
    },
    {
      "cell_type": "code",
      "metadata": {
        "id": "Np6dlSEsNIsr",
        "colab": {
          "base_uri": "https://localhost:8080/"
        },
        "outputId": "da9ec58f-31f8-4ee2-b24e-55b8e34d6d32"
      },
      "source": [
        "from sklearn.metrics import precision_score, recall_score\n",
        "\n",
        "(precision_score(y_train == 0, y_train_ == 0),\n",
        " recall_score(y_train == 0, y_train_ == 0))"
      ],
      "execution_count": null,
      "outputs": [
        {
          "output_type": "execute_result",
          "data": {
            "text/plain": [
              "(0.9775784753363229, 0.9819819819819819)"
            ]
          },
          "metadata": {},
          "execution_count": 8
        }
      ]
    },
    {
      "cell_type": "markdown",
      "metadata": {
        "id": "DcOOSN1ANIsy"
      },
      "source": [
        "Explicitly specify the class. Malignant masses have lower precision and recall"
      ]
    },
    {
      "cell_type": "code",
      "metadata": {
        "id": "xMwm6UvzNIsz",
        "colab": {
          "base_uri": "https://localhost:8080/"
        },
        "outputId": "a21add54-5b35-4b96-fec0-a07f2b4a0cae"
      },
      "source": [
        "(precision_score(y_train == 1, y_train_ == 1),\n",
        " recall_score(y_train == 1, y_train_ == 1))"
      ],
      "execution_count": null,
      "outputs": [
        {
          "output_type": "execute_result",
          "data": {
            "text/plain": [
              "(0.9662447257383966, 0.9581589958158996)"
            ]
          },
          "metadata": {},
          "execution_count": 7
        }
      ]
    },
    {
      "cell_type": "markdown",
      "metadata": {
        "id": "DYgHK_JHNItA"
      },
      "source": [
        "There are only two classes, so I predict that a breast mass is malignant if the predicted probability of malignancy is $0.5$ or higher. (I predict it is benign otherwise). Instead of using $0.5$ as the threshold, I could cast a wider net for malignancy by lowering the threshold to $0.4$, predicting a breast mass to be malignant as long as the predicted probability is $0.4$ or higher."
      ]
    },
    {
      "cell_type": "code",
      "metadata": {
        "id": "7wh16AkFNItC",
        "colab": {
          "base_uri": "https://localhost:8080/"
        },
        "outputId": "370cf601-e31a-463d-e0e8-dcd5a116ea48"
      },
      "source": [
        "probas_ = model.predict_proba(X_train)\n",
        "probas_"
      ],
      "execution_count": null,
      "outputs": [
        {
          "output_type": "execute_result",
          "data": {
            "text/plain": [
              "array([[1. , 0. ],\n",
              "       [0.1, 0.9],\n",
              "       [1. , 0. ],\n",
              "       ...,\n",
              "       [0. , 1. ],\n",
              "       [0. , 1. ],\n",
              "       [0. , 1. ]])"
            ]
          },
          "metadata": {},
          "execution_count": 9
        }
      ]
    },
    {
      "cell_type": "code",
      "metadata": {
        "id": "uObOFLpPNItG",
        "colab": {
          "base_uri": "https://localhost:8080/"
        },
        "outputId": "7bbe37d1-2906-413b-d3ac-e04f6f4b1807"
      },
      "source": [
        "y_train_ = (probas_[:, 1] >= 0.4)\n",
        "\n",
        "(precision_score(y_train == 1, y_train_ == 1),\n",
        " recall_score(y_train == 1, y_train_ == 1))"
      ],
      "execution_count": null,
      "outputs": [
        {
          "output_type": "execute_result",
          "data": {
            "text/plain": [
              "(0.948, 0.9916317991631799)"
            ]
          },
          "metadata": {},
          "execution_count": 10
        }
      ]
    },
    {
      "cell_type": "markdown",
      "metadata": {
        "id": "dClWFj6ONItK"
      },
      "source": [
        "I see that recall increases to 99.2% when we cast this wider net, at the expense of precision, which drops to 94.8%."
      ]
    },
    {
      "cell_type": "code",
      "metadata": {
        "id": "sYu4uzMzy8XR",
        "colab": {
          "base_uri": "https://localhost:8080/",
          "height": 297
        },
        "outputId": "b2d811e0-a534-45b0-bf44-d6d53c29cb38"
      },
      "source": [
        "from sklearn.metrics import precision_recall_curve\n",
        "\n",
        "precisions, recalls, thresholds = precision_recall_curve(\n",
        "    y_train == 1, probas_[:, 1]\n",
        ")\n",
        "\n",
        "pd.DataFrame({\n",
        "    \"precision\": precisions,\n",
        "    \"recall\": recalls\n",
        "}).plot.line(x=\"recall\", y=\"precision\")"
      ],
      "execution_count": null,
      "outputs": [
        {
          "output_type": "execute_result",
          "data": {
            "text/plain": [
              "<AxesSubplot:xlabel='recall'>"
            ]
          },
          "metadata": {},
          "execution_count": 11
        },
        {
          "output_type": "display_data",
          "data": {
            "text/plain": [
              "<Figure size 432x288 with 1 Axes>"
            ],
            "image/png": "[encoded data removed]"
          },
          "metadata": {
            "needs_background": "light"
          }
        }
      ]
    },
    {
      "cell_type": "markdown",
      "metadata": {
        "id": "cn9eIIuTNItW"
      },
      "source": [
        "This curve makes the tradeoff between precision and recall explicit. As I lower the threshold, the recall for malignant masses increases from 0% to 100%, while the precision decreases from 100% to about 92%.\n",
        "\n",
        "I can also plot the precision-recall curve for benign masses."
      ]
    },
    {
      "cell_type": "code",
      "metadata": {
        "id": "aVU9o7MDzdf3",
        "colab": {
          "base_uri": "https://localhost:8080/",
          "height": 297
        },
        "outputId": "a76333bb-0b6c-4150-bab8-8123e4253e2e"
      },
      "source": [
        "precisions, recalls, thresholds = precision_recall_curve(\n",
        "    y_train == 0, probas_[:, 0]\n",
        ")\n",
        "\n",
        "pd.DataFrame({\n",
        "    \"precision\": precisions,\n",
        "    \"recall\": recalls\n",
        "}).plot.line(x=\"recall\", y=\"precision\")"
      ],
      "execution_count": null,
      "outputs": [
        {
          "output_type": "execute_result",
          "data": {
            "text/plain": [
              "<AxesSubplot:xlabel='recall'>"
            ]
          },
          "metadata": {},
          "execution_count": 12
        },
        {
          "output_type": "display_data",
          "data": {
            "text/plain": [
              "<Figure size 432x288 with 1 Axes>"
            ],
            "image/png": "[encoded data removed]"
          },
          "metadata": {
            "needs_background": "light"
          }
        }
      ]
    },
    {
      "cell_type": "markdown",
      "source": [
        "F1 score to combine precision and recall"
      ],
      "metadata": {
        "id": "jBCoNvMUURzi"
      }
    },
    {
      "cell_type": "code",
      "metadata": {
        "id": "Eezl_zxVNIta",
        "colab": {
          "base_uri": "https://localhost:8080/"
        },
        "outputId": "55d05a12-7f21-405b-d0f7-2438e3873b21"
      },
      "source": [
        "2 * precision * recall / (precision + recall)"
      ],
      "execution_count": null,
      "outputs": [
        {
          "output_type": "execute_result",
          "data": {
            "text/plain": [
              "0.9621848739495799"
            ]
          },
          "metadata": {},
          "execution_count": 13
        }
      ]
    }
  ]
}